{
 "cells": [
  {
   "cell_type": "markdown",
   "metadata": {},
   "source": [
    "# Customer Churn Modelling using ANN"
   ]
  },
  {
   "cell_type": "code",
   "execution_count": 8,
   "metadata": {},
   "outputs": [],
   "source": [
    "#!pip install theano\n",
    "#!pip install tensorflow"
   ]
  },
  {
   "cell_type": "code",
   "execution_count": 103,
   "metadata": {},
   "outputs": [],
   "source": [
    "#import theano\n",
    "import tensorflow\n",
    "import keras\n",
    "import numpy as np\n",
    "import pandas as pd"
   ]
  },
  {
   "cell_type": "code",
   "execution_count": 104,
   "metadata": {},
   "outputs": [],
   "source": [
    "from keras.models import Sequential\n",
    "from keras.layers import Dense"
   ]
  },
  {
   "cell_type": "code",
   "execution_count": 122,
   "metadata": {},
   "outputs": [],
   "source": [
    "from sklearn.preprocessing import LabelEncoder, OneHotEncoder\n",
    "from sklearn.model_selection import train_test_split\n",
    "from sklearn.preprocessing import StandardScaler\n",
    "from sklearn.metrics import confusion_matrix"
   ]
  },
  {
   "cell_type": "code",
   "execution_count": 106,
   "metadata": {
    "scrolled": true
   },
   "outputs": [
    {
     "data": {
      "text/html": [
       "<div>\n",
       "<style scoped>\n",
       "    .dataframe tbody tr th:only-of-type {\n",
       "        vertical-align: middle;\n",
       "    }\n",
       "\n",
       "    .dataframe tbody tr th {\n",
       "        vertical-align: top;\n",
       "    }\n",
       "\n",
       "    .dataframe thead th {\n",
       "        text-align: right;\n",
       "    }\n",
       "</style>\n",
       "<table border=\"1\" class=\"dataframe\">\n",
       "  <thead>\n",
       "    <tr style=\"text-align: right;\">\n",
       "      <th></th>\n",
       "      <th>RowNumber</th>\n",
       "      <th>CustomerId</th>\n",
       "      <th>Surname</th>\n",
       "      <th>CreditScore</th>\n",
       "      <th>Geography</th>\n",
       "      <th>Gender</th>\n",
       "      <th>Age</th>\n",
       "      <th>Tenure</th>\n",
       "      <th>Balance</th>\n",
       "      <th>NumOfProducts</th>\n",
       "      <th>HasCrCard</th>\n",
       "      <th>IsActiveMember</th>\n",
       "      <th>EstimatedSalary</th>\n",
       "      <th>Exited</th>\n",
       "    </tr>\n",
       "  </thead>\n",
       "  <tbody>\n",
       "    <tr>\n",
       "      <th>0</th>\n",
       "      <td>1</td>\n",
       "      <td>15634602</td>\n",
       "      <td>Hargrave</td>\n",
       "      <td>619</td>\n",
       "      <td>France</td>\n",
       "      <td>Female</td>\n",
       "      <td>42</td>\n",
       "      <td>2</td>\n",
       "      <td>0.00</td>\n",
       "      <td>1</td>\n",
       "      <td>1</td>\n",
       "      <td>1</td>\n",
       "      <td>101348.88</td>\n",
       "      <td>1</td>\n",
       "    </tr>\n",
       "    <tr>\n",
       "      <th>1</th>\n",
       "      <td>2</td>\n",
       "      <td>15647311</td>\n",
       "      <td>Hill</td>\n",
       "      <td>608</td>\n",
       "      <td>Spain</td>\n",
       "      <td>Female</td>\n",
       "      <td>41</td>\n",
       "      <td>1</td>\n",
       "      <td>83807.86</td>\n",
       "      <td>1</td>\n",
       "      <td>0</td>\n",
       "      <td>1</td>\n",
       "      <td>112542.58</td>\n",
       "      <td>0</td>\n",
       "    </tr>\n",
       "    <tr>\n",
       "      <th>2</th>\n",
       "      <td>3</td>\n",
       "      <td>15619304</td>\n",
       "      <td>Onio</td>\n",
       "      <td>502</td>\n",
       "      <td>France</td>\n",
       "      <td>Female</td>\n",
       "      <td>42</td>\n",
       "      <td>8</td>\n",
       "      <td>159660.80</td>\n",
       "      <td>3</td>\n",
       "      <td>1</td>\n",
       "      <td>0</td>\n",
       "      <td>113931.57</td>\n",
       "      <td>1</td>\n",
       "    </tr>\n",
       "    <tr>\n",
       "      <th>3</th>\n",
       "      <td>4</td>\n",
       "      <td>15701354</td>\n",
       "      <td>Boni</td>\n",
       "      <td>699</td>\n",
       "      <td>France</td>\n",
       "      <td>Female</td>\n",
       "      <td>39</td>\n",
       "      <td>1</td>\n",
       "      <td>0.00</td>\n",
       "      <td>2</td>\n",
       "      <td>0</td>\n",
       "      <td>0</td>\n",
       "      <td>93826.63</td>\n",
       "      <td>0</td>\n",
       "    </tr>\n",
       "    <tr>\n",
       "      <th>4</th>\n",
       "      <td>5</td>\n",
       "      <td>15737888</td>\n",
       "      <td>Mitchell</td>\n",
       "      <td>850</td>\n",
       "      <td>Spain</td>\n",
       "      <td>Female</td>\n",
       "      <td>43</td>\n",
       "      <td>2</td>\n",
       "      <td>125510.82</td>\n",
       "      <td>1</td>\n",
       "      <td>1</td>\n",
       "      <td>1</td>\n",
       "      <td>79084.10</td>\n",
       "      <td>0</td>\n",
       "    </tr>\n",
       "  </tbody>\n",
       "</table>\n",
       "</div>"
      ],
      "text/plain": [
       "   RowNumber  CustomerId   Surname  CreditScore Geography  Gender  Age  \\\n",
       "0          1    15634602  Hargrave          619    France  Female   42   \n",
       "1          2    15647311      Hill          608     Spain  Female   41   \n",
       "2          3    15619304      Onio          502    France  Female   42   \n",
       "3          4    15701354      Boni          699    France  Female   39   \n",
       "4          5    15737888  Mitchell          850     Spain  Female   43   \n",
       "\n",
       "   Tenure    Balance  NumOfProducts  HasCrCard  IsActiveMember  \\\n",
       "0       2       0.00              1          1               1   \n",
       "1       1   83807.86              1          0               1   \n",
       "2       8  159660.80              3          1               0   \n",
       "3       1       0.00              2          0               0   \n",
       "4       2  125510.82              1          1               1   \n",
       "\n",
       "   EstimatedSalary  Exited  \n",
       "0        101348.88       1  \n",
       "1        112542.58       0  \n",
       "2        113931.57       1  \n",
       "3         93826.63       0  \n",
       "4         79084.10       0  "
      ]
     },
     "execution_count": 106,
     "metadata": {},
     "output_type": "execute_result"
    }
   ],
   "source": [
    "data = pd.read_csv('Churn_Modelling.csv')\n",
    "data.head()"
   ]
  },
  {
   "cell_type": "code",
   "execution_count": 107,
   "metadata": {},
   "outputs": [
    {
     "data": {
      "text/plain": [
       "(10000, 14)"
      ]
     },
     "execution_count": 107,
     "metadata": {},
     "output_type": "execute_result"
    }
   ],
   "source": [
    "data.shape"
   ]
  },
  {
   "cell_type": "code",
   "execution_count": 108,
   "metadata": {},
   "outputs": [
    {
     "data": {
      "text/plain": [
       "array([[619, 'France', 'Female', ..., 1, 1, 101348.88],\n",
       "       [608, 'Spain', 'Female', ..., 0, 1, 112542.58],\n",
       "       [502, 'France', 'Female', ..., 1, 0, 113931.57],\n",
       "       ...,\n",
       "       [709, 'France', 'Female', ..., 0, 1, 42085.58],\n",
       "       [772, 'Germany', 'Male', ..., 1, 0, 92888.52],\n",
       "       [792, 'France', 'Female', ..., 1, 0, 38190.78]], dtype=object)"
      ]
     },
     "execution_count": 108,
     "metadata": {},
     "output_type": "execute_result"
    }
   ],
   "source": [
    "x = data.iloc[:,3:-1].values\n",
    "y = data.iloc[:,-1].values\n",
    "x"
   ]
  },
  {
   "cell_type": "code",
   "execution_count": 109,
   "metadata": {},
   "outputs": [
    {
     "data": {
      "text/plain": [
       "array([[619, 0, 0, ..., 1, 1, 101348.88],\n",
       "       [608, 2, 0, ..., 0, 1, 112542.58],\n",
       "       [502, 0, 0, ..., 1, 0, 113931.57],\n",
       "       ...,\n",
       "       [709, 0, 0, ..., 0, 1, 42085.58],\n",
       "       [772, 1, 1, ..., 1, 0, 92888.52],\n",
       "       [792, 0, 0, ..., 1, 0, 38190.78]], dtype=object)"
      ]
     },
     "execution_count": 109,
     "metadata": {},
     "output_type": "execute_result"
    }
   ],
   "source": [
    "label_encoder_x_country = LabelEncoder()\n",
    "x[:,1] = label_encoder_x_country.fit_transform(x[:,1])\n",
    "\n",
    "label_encoder_x_gender = LabelEncoder()\n",
    "x[:,2] = label_encoder_x_gender.fit_transform(x[:,2])\n",
    "x\n",
    "#\n",
    "#"
   ]
  },
  {
   "cell_type": "code",
   "execution_count": 110,
   "metadata": {},
   "outputs": [],
   "source": [
    "onehot_encoder = OneHotEncoder(categorical_features=[1])"
   ]
  },
  {
   "cell_type": "code",
   "execution_count": 111,
   "metadata": {},
   "outputs": [],
   "source": [
    "x = onehot_encoder.fit_transform(x).toarray()"
   ]
  },
  {
   "cell_type": "code",
   "execution_count": 112,
   "metadata": {},
   "outputs": [
    {
     "data": {
      "text/plain": [
       "array([[0.0000000e+00, 0.0000000e+00, 6.1900000e+02, ..., 1.0000000e+00,\n",
       "        1.0000000e+00, 1.0134888e+05],\n",
       "       [0.0000000e+00, 1.0000000e+00, 6.0800000e+02, ..., 0.0000000e+00,\n",
       "        1.0000000e+00, 1.1254258e+05],\n",
       "       [0.0000000e+00, 0.0000000e+00, 5.0200000e+02, ..., 1.0000000e+00,\n",
       "        0.0000000e+00, 1.1393157e+05],\n",
       "       ...,\n",
       "       [0.0000000e+00, 0.0000000e+00, 7.0900000e+02, ..., 0.0000000e+00,\n",
       "        1.0000000e+00, 4.2085580e+04],\n",
       "       [1.0000000e+00, 0.0000000e+00, 7.7200000e+02, ..., 1.0000000e+00,\n",
       "        0.0000000e+00, 9.2888520e+04],\n",
       "       [0.0000000e+00, 0.0000000e+00, 7.9200000e+02, ..., 1.0000000e+00,\n",
       "        0.0000000e+00, 3.8190780e+04]])"
      ]
     },
     "execution_count": 112,
     "metadata": {},
     "output_type": "execute_result"
    }
   ],
   "source": [
    "x = x[:,1:]\n",
    "x"
   ]
  },
  {
   "cell_type": "code",
   "execution_count": 113,
   "metadata": {},
   "outputs": [],
   "source": [
    "x_train,x_test,y_train,y_test = train_test_split(x,y,test_size = 0.2)"
   ]
  },
  {
   "cell_type": "code",
   "execution_count": 114,
   "metadata": {},
   "outputs": [],
   "source": [
    "sc = StandardScaler()\n",
    "x_train = sc.fit_transform(x_train)\n",
    "x_test = sc.transform(x_test)"
   ]
  },
  {
   "cell_type": "code",
   "execution_count": 115,
   "metadata": {},
   "outputs": [],
   "source": [
    "classifer = Sequential()\n",
    "classifer.add(Dense(activation=\"relu\", input_dim=11, units=6, kernel_initializer=\"uniform\" ))"
   ]
  },
  {
   "cell_type": "code",
   "execution_count": 116,
   "metadata": {},
   "outputs": [],
   "source": [
    "classifer.add(Dense(activation=\"relu\", units=6, kernel_initializer=\"uniform\" ))"
   ]
  },
  {
   "cell_type": "code",
   "execution_count": 117,
   "metadata": {},
   "outputs": [],
   "source": [
    "classifer.add(Dense(activation=\"sigmoid\", units=1, kernel_initializer=\"uniform\" ))"
   ]
  },
  {
   "cell_type": "code",
   "execution_count": 118,
   "metadata": {},
   "outputs": [],
   "source": [
    "classifer.compile(optimizer='adam', loss='binary_crossentropy', metrics = ['accuracy'])"
   ]
  },
  {
   "cell_type": "code",
   "execution_count": 119,
   "metadata": {
    "scrolled": false
   },
   "outputs": [
    {
     "name": "stdout",
     "output_type": "stream",
     "text": [
      "WARNING:tensorflow:From E:\\Anaconda\\lib\\site-packages\\tensorflow\\python\\ops\\math_ops.py:3066: to_int32 (from tensorflow.python.ops.math_ops) is deprecated and will be removed in a future version.\n",
      "Instructions for updating:\n",
      "Use tf.cast instead.\n",
      "Epoch 1/100\n",
      "8000/8000 [==============================] - 1s 124us/step - loss: 0.4853 - acc: 0.7931\n",
      "Epoch 2/100\n",
      "8000/8000 [==============================] - 1s 104us/step - loss: 0.4343 - acc: 0.7934\n",
      "Epoch 3/100\n",
      "8000/8000 [==============================] - 1s 79us/step - loss: 0.4285 - acc: 0.8005\n",
      "Epoch 4/100\n",
      "8000/8000 [==============================] - 1s 75us/step - loss: 0.4246 - acc: 0.8229\n",
      "Epoch 5/100\n",
      "8000/8000 [==============================] - 1s 99us/step - loss: 0.4224 - acc: 0.8276\n",
      "Epoch 6/100\n",
      "8000/8000 [==============================] - 1s 88us/step - loss: 0.4206 - acc: 0.8276\n",
      "Epoch 7/100\n",
      "8000/8000 [==============================] - 1s 76us/step - loss: 0.4194 - acc: 0.8296\n",
      "Epoch 8/100\n",
      "8000/8000 [==============================] - 1s 77us/step - loss: 0.4182 - acc: 0.8305: 0s - loss: 0.4414 - \n",
      "Epoch 9/100\n",
      "8000/8000 [==============================] - 1s 94us/step - loss: 0.4169 - acc: 0.8316\n",
      "Epoch 10/100\n",
      "8000/8000 [==============================] - 1s 82us/step - loss: 0.4160 - acc: 0.8317\n",
      "Epoch 11/100\n",
      "8000/8000 [==============================] - 1s 78us/step - loss: 0.4146 - acc: 0.8315\n",
      "Epoch 12/100\n",
      "8000/8000 [==============================] - 1s 73us/step - loss: 0.4144 - acc: 0.8324\n",
      "Epoch 13/100\n",
      "8000/8000 [==============================] - 1s 71us/step - loss: 0.4136 - acc: 0.8330\n",
      "Epoch 14/100\n",
      "8000/8000 [==============================] - 1s 72us/step - loss: 0.4128 - acc: 0.8327\n",
      "Epoch 15/100\n",
      "8000/8000 [==============================] - 1s 71us/step - loss: 0.4125 - acc: 0.8314\n",
      "Epoch 16/100\n",
      "8000/8000 [==============================] - 1s 74us/step - loss: 0.4120 - acc: 0.8332\n",
      "Epoch 17/100\n",
      "8000/8000 [==============================] - 1s 72us/step - loss: 0.4114 - acc: 0.8322\n",
      "Epoch 18/100\n",
      "8000/8000 [==============================] - 1s 72us/step - loss: 0.4108 - acc: 0.8320\n",
      "Epoch 19/100\n",
      "8000/8000 [==============================] - 1s 74us/step - loss: 0.4107 - acc: 0.8329\n",
      "Epoch 20/100\n",
      "8000/8000 [==============================] - 1s 81us/step - loss: 0.4102 - acc: 0.8332\n",
      "Epoch 21/100\n",
      "8000/8000 [==============================] - 1s 98us/step - loss: 0.4098 - acc: 0.8326\n",
      "Epoch 22/100\n",
      "8000/8000 [==============================] - 1s 87us/step - loss: 0.4098 - acc: 0.8331\n",
      "Epoch 23/100\n",
      "8000/8000 [==============================] - 1s 99us/step - loss: 0.4095 - acc: 0.8329\n",
      "Epoch 24/100\n",
      "8000/8000 [==============================] - 1s 100us/step - loss: 0.4097 - acc: 0.8329\n",
      "Epoch 25/100\n",
      "8000/8000 [==============================] - 1s 93us/step - loss: 0.4092 - acc: 0.8342\n",
      "Epoch 26/100\n",
      "8000/8000 [==============================] - 1s 74us/step - loss: 0.4090 - acc: 0.8342\n",
      "Epoch 27/100\n",
      "8000/8000 [==============================] - 1s 74us/step - loss: 0.4084 - acc: 0.8330\n",
      "Epoch 28/100\n",
      "8000/8000 [==============================] - 1s 74us/step - loss: 0.4086 - acc: 0.8340\n",
      "Epoch 29/100\n",
      "8000/8000 [==============================] - 1s 74us/step - loss: 0.4085 - acc: 0.8344\n",
      "Epoch 30/100\n",
      "8000/8000 [==============================] - 1s 74us/step - loss: 0.4078 - acc: 0.8344\n",
      "Epoch 31/100\n",
      "8000/8000 [==============================] - 1s 74us/step - loss: 0.4082 - acc: 0.8332\n",
      "Epoch 32/100\n",
      "8000/8000 [==============================] - ETA: 0s - loss: 0.4054 - acc: 0.834 - 1s 74us/step - loss: 0.4076 - acc: 0.8332\n",
      "Epoch 33/100\n",
      "8000/8000 [==============================] - 1s 75us/step - loss: 0.4080 - acc: 0.8349\n",
      "Epoch 34/100\n",
      "8000/8000 [==============================] - 1s 74us/step - loss: 0.4079 - acc: 0.8335\n",
      "Epoch 35/100\n",
      "8000/8000 [==============================] - 1s 91us/step - loss: 0.4076 - acc: 0.8347\n",
      "Epoch 36/100\n",
      "8000/8000 [==============================] - 1s 87us/step - loss: 0.4074 - acc: 0.8347\n",
      "Epoch 37/100\n",
      "8000/8000 [==============================] - 1s 74us/step - loss: 0.4073 - acc: 0.8332\n",
      "Epoch 38/100\n",
      "8000/8000 [==============================] - 1s 74us/step - loss: 0.4072 - acc: 0.8334\n",
      "Epoch 39/100\n",
      "8000/8000 [==============================] - 1s 74us/step - loss: 0.4067 - acc: 0.8344\n",
      "Epoch 40/100\n",
      "8000/8000 [==============================] - 1s 74us/step - loss: 0.4070 - acc: 0.8322\n",
      "Epoch 41/100\n",
      "8000/8000 [==============================] - 1s 75us/step - loss: 0.4071 - acc: 0.8335\n",
      "Epoch 42/100\n",
      "8000/8000 [==============================] - 1s 75us/step - loss: 0.4069 - acc: 0.8334\n",
      "Epoch 43/100\n",
      "8000/8000 [==============================] - 1s 74us/step - loss: 0.4071 - acc: 0.8331\n",
      "Epoch 44/100\n",
      "8000/8000 [==============================] - 1s 75us/step - loss: 0.4071 - acc: 0.8330\n",
      "Epoch 45/100\n",
      "8000/8000 [==============================] - 1s 81us/step - loss: 0.4066 - acc: 0.8329\n",
      "Epoch 46/100\n",
      "8000/8000 [==============================] - 1s 94us/step - loss: 0.4067 - acc: 0.8335\n",
      "Epoch 47/100\n",
      "8000/8000 [==============================] - 1s 118us/step - loss: 0.4072 - acc: 0.8325\n",
      "Epoch 48/100\n",
      "8000/8000 [==============================] - 1s 111us/step - loss: 0.4068 - acc: 0.8340\n",
      "Epoch 49/100\n",
      "8000/8000 [==============================] - 1s 88us/step - loss: 0.4064 - acc: 0.8327\n",
      "Epoch 50/100\n",
      "8000/8000 [==============================] - 1s 78us/step - loss: 0.4066 - acc: 0.8342\n",
      "Epoch 51/100\n",
      "8000/8000 [==============================] - 1s 78us/step - loss: 0.4063 - acc: 0.8345\n",
      "Epoch 52/100\n",
      "8000/8000 [==============================] - 1s 91us/step - loss: 0.4068 - acc: 0.8347\n",
      "Epoch 53/100\n",
      "8000/8000 [==============================] - 1s 83us/step - loss: 0.4061 - acc: 0.8335\n",
      "Epoch 54/100\n",
      "8000/8000 [==============================] - 1s 83us/step - loss: 0.4064 - acc: 0.8334\n",
      "Epoch 55/100\n",
      "8000/8000 [==============================] - 1s 75us/step - loss: 0.4060 - acc: 0.8316\n",
      "Epoch 56/100\n",
      "8000/8000 [==============================] - 1s 77us/step - loss: 0.4061 - acc: 0.8344\n",
      "Epoch 57/100\n",
      "8000/8000 [==============================] - 1s 77us/step - loss: 0.4065 - acc: 0.8340\n",
      "Epoch 58/100\n",
      "8000/8000 [==============================] - 1s 83us/step - loss: 0.4061 - acc: 0.8331\n",
      "Epoch 59/100\n",
      "8000/8000 [==============================] - 1s 85us/step - loss: 0.4061 - acc: 0.8341\n",
      "Epoch 60/100\n",
      "8000/8000 [==============================] - 1s 73us/step - loss: 0.4065 - acc: 0.8322\n",
      "Epoch 61/100\n",
      "8000/8000 [==============================] - 1s 86us/step - loss: 0.4057 - acc: 0.8349\n",
      "Epoch 62/100\n",
      "8000/8000 [==============================] - 1s 90us/step - loss: 0.4059 - acc: 0.8325\n",
      "Epoch 63/100\n",
      "8000/8000 [==============================] - 1s 72us/step - loss: 0.4059 - acc: 0.8344\n",
      "Epoch 64/100\n",
      "8000/8000 [==============================] - 1s 75us/step - loss: 0.4058 - acc: 0.8332\n",
      "Epoch 65/100\n",
      "8000/8000 [==============================] - 1s 81us/step - loss: 0.4063 - acc: 0.8339\n",
      "Epoch 66/100\n",
      "8000/8000 [==============================] - 1s 100us/step - loss: 0.4060 - acc: 0.8356\n",
      "Epoch 67/100\n",
      "8000/8000 [==============================] - 1s 86us/step - loss: 0.4058 - acc: 0.8334\n",
      "Epoch 68/100\n",
      "8000/8000 [==============================] - 1s 85us/step - loss: 0.4059 - acc: 0.8321\n",
      "Epoch 69/100\n",
      "8000/8000 [==============================] - 1s 86us/step - loss: 0.4059 - acc: 0.8352\n",
      "Epoch 70/100\n",
      "8000/8000 [==============================] - 1s 94us/step - loss: 0.4061 - acc: 0.8340: 0s - loss: 0.3969 - \n",
      "Epoch 71/100\n",
      "8000/8000 [==============================] - ETA: 0s - loss: 0.4054 - acc: 0.835 - 1s 74us/step - loss: 0.4063 - acc: 0.8340\n",
      "Epoch 72/100\n",
      "8000/8000 [==============================] - 1s 92us/step - loss: 0.4058 - acc: 0.8326\n",
      "Epoch 73/100\n",
      "8000/8000 [==============================] - 1s 89us/step - loss: 0.4060 - acc: 0.8341\n",
      "Epoch 74/100\n",
      "8000/8000 [==============================] - ETA: 0s - loss: 0.4064 - acc: 0.832 - 1s 75us/step - loss: 0.4058 - acc: 0.8336\n",
      "Epoch 75/100\n",
      "8000/8000 [==============================] - 1s 97us/step - loss: 0.4060 - acc: 0.8334\n",
      "Epoch 76/100\n",
      "8000/8000 [==============================] - 1s 97us/step - loss: 0.4057 - acc: 0.8329\n",
      "Epoch 77/100\n",
      "8000/8000 [==============================] - 1s 86us/step - loss: 0.4059 - acc: 0.8315\n",
      "Epoch 78/100\n"
     ]
    },
    {
     "name": "stdout",
     "output_type": "stream",
     "text": [
      "8000/8000 [==============================] - 1s 76us/step - loss: 0.4060 - acc: 0.8326\n",
      "Epoch 79/100\n",
      "8000/8000 [==============================] - 1s 68us/step - loss: 0.4055 - acc: 0.8321\n",
      "Epoch 80/100\n",
      "8000/8000 [==============================] - 1s 69us/step - loss: 0.4062 - acc: 0.8341\n",
      "Epoch 81/100\n",
      "8000/8000 [==============================] - 1s 68us/step - loss: 0.4056 - acc: 0.8331\n",
      "Epoch 82/100\n",
      "8000/8000 [==============================] - 1s 69us/step - loss: 0.4057 - acc: 0.8331\n",
      "Epoch 83/100\n",
      "8000/8000 [==============================] - 1s 88us/step - loss: 0.4060 - acc: 0.8335\n",
      "Epoch 84/100\n",
      "8000/8000 [==============================] - 1s 85us/step - loss: 0.4052 - acc: 0.8345\n",
      "Epoch 85/100\n",
      "8000/8000 [==============================] - 1s 71us/step - loss: 0.4058 - acc: 0.8337\n",
      "Epoch 86/100\n",
      "8000/8000 [==============================] - 1s 73us/step - loss: 0.4054 - acc: 0.8345\n",
      "Epoch 87/100\n",
      "8000/8000 [==============================] - 1s 78us/step - loss: 0.4058 - acc: 0.8317\n",
      "Epoch 88/100\n",
      "8000/8000 [==============================] - 1s 78us/step - loss: 0.4059 - acc: 0.8335\n",
      "Epoch 89/100\n",
      "8000/8000 [==============================] - 1s 79us/step - loss: 0.4059 - acc: 0.8334\n",
      "Epoch 90/100\n",
      "8000/8000 [==============================] - 1s 89us/step - loss: 0.4054 - acc: 0.8341\n",
      "Epoch 91/100\n",
      "8000/8000 [==============================] - 1s 79us/step - loss: 0.4057 - acc: 0.8326\n",
      "Epoch 92/100\n",
      "8000/8000 [==============================] - 1s 74us/step - loss: 0.4056 - acc: 0.8336\n",
      "Epoch 93/100\n",
      "8000/8000 [==============================] - 1s 72us/step - loss: 0.4055 - acc: 0.8342\n",
      "Epoch 94/100\n",
      "8000/8000 [==============================] - 1s 86us/step - loss: 0.4056 - acc: 0.8330\n",
      "Epoch 95/100\n",
      "8000/8000 [==============================] - 1s 81us/step - loss: 0.4058 - acc: 0.8342\n",
      "Epoch 96/100\n",
      "8000/8000 [==============================] - 1s 70us/step - loss: 0.4058 - acc: 0.8329\n",
      "Epoch 97/100\n",
      "8000/8000 [==============================] - 1s 76us/step - loss: 0.4052 - acc: 0.8327\n",
      "Epoch 98/100\n",
      "8000/8000 [==============================] - 1s 80us/step - loss: 0.4056 - acc: 0.8347\n",
      "Epoch 99/100\n",
      "8000/8000 [==============================] - 1s 84us/step - loss: 0.4055 - acc: 0.8334\n",
      "Epoch 100/100\n",
      "8000/8000 [==============================] - 1s 84us/step - loss: 0.4058 - acc: 0.8327\n"
     ]
    },
    {
     "data": {
      "text/plain": [
       "<keras.callbacks.History at 0x26d675722e8>"
      ]
     },
     "execution_count": 119,
     "metadata": {},
     "output_type": "execute_result"
    }
   ],
   "source": [
    "classifer.fit(x_train,y_train,batch_size=10,epochs=100)"
   ]
  },
  {
   "cell_type": "code",
   "execution_count": 135,
   "metadata": {},
   "outputs": [
    {
     "data": {
      "text/html": [
       "<div>\n",
       "<style scoped>\n",
       "    .dataframe tbody tr th:only-of-type {\n",
       "        vertical-align: middle;\n",
       "    }\n",
       "\n",
       "    .dataframe tbody tr th {\n",
       "        vertical-align: top;\n",
       "    }\n",
       "\n",
       "    .dataframe thead th {\n",
       "        text-align: right;\n",
       "    }\n",
       "</style>\n",
       "<table border=\"1\" class=\"dataframe\">\n",
       "  <thead>\n",
       "    <tr style=\"text-align: right;\">\n",
       "      <th></th>\n",
       "      <th>Actual</th>\n",
       "      <th>Predicted</th>\n",
       "    </tr>\n",
       "  </thead>\n",
       "  <tbody>\n",
       "    <tr>\n",
       "      <th>0</th>\n",
       "      <td>1</td>\n",
       "      <td>True</td>\n",
       "    </tr>\n",
       "    <tr>\n",
       "      <th>1</th>\n",
       "      <td>0</td>\n",
       "      <td>False</td>\n",
       "    </tr>\n",
       "    <tr>\n",
       "      <th>2</th>\n",
       "      <td>0</td>\n",
       "      <td>True</td>\n",
       "    </tr>\n",
       "    <tr>\n",
       "      <th>3</th>\n",
       "      <td>0</td>\n",
       "      <td>False</td>\n",
       "    </tr>\n",
       "    <tr>\n",
       "      <th>4</th>\n",
       "      <td>0</td>\n",
       "      <td>False</td>\n",
       "    </tr>\n",
       "  </tbody>\n",
       "</table>\n",
       "</div>"
      ],
      "text/plain": [
       "   Actual  Predicted\n",
       "0       1       True\n",
       "1       0      False\n",
       "2       0       True\n",
       "3       0      False\n",
       "4       0      False"
      ]
     },
     "execution_count": 135,
     "metadata": {},
     "output_type": "execute_result"
    }
   ],
   "source": [
    "y_pred.flatten()\n",
    "y_test\n",
    "comp = pd.DataFrame({'Actual':y_test,'Predicted':y_pred.flatten()})\n",
    "comp.head()"
   ]
  },
  {
   "cell_type": "code",
   "execution_count": 120,
   "metadata": {},
   "outputs": [],
   "source": [
    "y_pred = classifer.predict(x_test)\n",
    "y_pred = y_pred > 0.5"
   ]
  },
  {
   "cell_type": "code",
   "execution_count": 126,
   "metadata": {},
   "outputs": [
    {
     "data": {
      "text/plain": [
       "array([[1548,   68],\n",
       "       [ 245,  139]], dtype=int64)"
      ]
     },
     "execution_count": 126,
     "metadata": {},
     "output_type": "execute_result"
    }
   ],
   "source": [
    "cm = confusion_matrix(y_test,y_pred)\n",
    "cm"
   ]
  },
  {
   "cell_type": "code",
   "execution_count": 137,
   "metadata": {},
   "outputs": [
    {
     "data": {
      "text/plain": [
       "0.8435"
      ]
     },
     "execution_count": 137,
     "metadata": {},
     "output_type": "execute_result"
    }
   ],
   "source": [
    "accuracy = (1548+139)/2000\n",
    "accuracy"
   ]
  },
  {
   "cell_type": "code",
   "execution_count": null,
   "metadata": {},
   "outputs": [],
   "source": []
  }
 ],
 "metadata": {
  "kernelspec": {
   "display_name": "Python 3",
   "language": "python",
   "name": "python3"
  },
  "language_info": {
   "codemirror_mode": {
    "name": "ipython",
    "version": 3
   },
   "file_extension": ".py",
   "mimetype": "text/x-python",
   "name": "python",
   "nbconvert_exporter": "python",
   "pygments_lexer": "ipython3",
   "version": "3.6.5"
  }
 },
 "nbformat": 4,
 "nbformat_minor": 2
}
